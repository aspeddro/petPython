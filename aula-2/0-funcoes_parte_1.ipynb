{
 "cells": [
  {
   "cell_type": "markdown",
   "metadata": {},
   "source": [
    "# Funções"
   ]
  },
  {
   "cell_type": "markdown",
   "metadata": {},
   "source": [
    "Em Python, funções são criadas usando a palavra-chave `def`. Funções são blocos de código (um conjunto de instruções), em geral funções retornam algo quando são chamadas.\n",
    "\n",
    "* Funções permitem que o mesmo trecho de código seja executado várias vezes\n",
    "\n",
    "* Funções dividem programas longos em componentes (pense em componentes como blocos de tarefas) menores "
   ]
  },
  {
   "cell_type": "code",
   "execution_count": 1,
   "metadata": {},
   "outputs": [
    {
     "name": "stdout",
     "output_type": "stream",
     "text": [
      "hello wold\n"
     ]
    }
   ],
   "source": [
    "print(\"hello wold\")"
   ]
  },
  {
   "cell_type": "code",
   "execution_count": 14,
   "metadata": {},
   "outputs": [],
   "source": [
    "def printNome(nome, repeat):\n",
    "  print(nome*repeat)"
   ]
  },
  {
   "cell_type": "code",
   "execution_count": 13,
   "metadata": {},
   "outputs": [
    {
     "name": "stdout",
     "output_type": "stream",
     "text": [
      "PedroPedroPedroPedroPedroPedroPedroPedroPedroPedroPedroPedroPedroPedroPedroPedroPedroPedroPedroPedro\n"
     ]
    }
   ],
   "source": [
    "printNome(\"Pedro\", 20)"
   ]
  },
  {
   "cell_type": "code",
   "execution_count": 24,
   "metadata": {},
   "outputs": [],
   "source": [
    "def mult(a,b):\n",
    "  return a*b"
   ]
  },
  {
   "cell_type": "code",
   "execution_count": 22,
   "metadata": {},
   "outputs": [
    {
     "name": "stdout",
     "output_type": "stream",
     "text": [
      "25 5.0\n"
     ]
    }
   ],
   "source": [
    "resultado = mult(5,5)\n",
    "raiz = resultado**0.5\n",
    "print(resultado, raiz)"
   ]
  },
  {
   "cell_type": "code",
   "execution_count": 25,
   "metadata": {},
   "outputs": [],
   "source": [
    "def listPos(lista):\n",
    "  resultado = []\n",
    "  for i in lista:\n",
    "    if i > 0:\n",
    "      resultado.append(i)\n",
    "  return resultado"
   ]
  },
  {
   "cell_type": "code",
   "execution_count": 26,
   "metadata": {},
   "outputs": [],
   "source": [
    "b = list(range(-15,16))"
   ]
  },
  {
   "cell_type": "code",
   "execution_count": 28,
   "metadata": {},
   "outputs": [
    {
     "data": {
      "text/plain": [
       "[1, 2, 3, 4, 5, 6, 7, 8, 9, 10, 11, 12, 13, 14, 15]"
      ]
     },
     "execution_count": 28,
     "metadata": {},
     "output_type": "execute_result"
    }
   ],
   "source": [
    "listPos(b)"
   ]
  },
  {
   "cell_type": "code",
   "execution_count": 29,
   "metadata": {},
   "outputs": [
    {
     "data": {
      "text/plain": [
       "[]"
      ]
     },
     "execution_count": 29,
     "metadata": {},
     "output_type": "execute_result"
    }
   ],
   "source": [
    "listPos(list(range(-50,0)))"
   ]
  },
  {
   "cell_type": "code",
   "execution_count": 35,
   "metadata": {},
   "outputs": [],
   "source": [
    "def div(a=1,b=1):\n",
    "  return a/b"
   ]
  },
  {
   "cell_type": "code",
   "execution_count": 36,
   "metadata": {},
   "outputs": [
    {
     "data": {
      "text/plain": [
       "1.0"
      ]
     },
     "execution_count": 36,
     "metadata": {},
     "output_type": "execute_result"
    }
   ],
   "source": [
    "div()"
   ]
  },
  {
   "cell_type": "code",
   "execution_count": 39,
   "metadata": {},
   "outputs": [],
   "source": [
    "def power(a,n=1):\n",
    "  return a**n"
   ]
  },
  {
   "cell_type": "code",
   "execution_count": 40,
   "metadata": {},
   "outputs": [
    {
     "data": {
      "text/plain": [
       "9"
      ]
     },
     "execution_count": 40,
     "metadata": {},
     "output_type": "execute_result"
    }
   ],
   "source": [
    "power(9)"
   ]
  },
  {
   "cell_type": "code",
   "execution_count": 47,
   "metadata": {},
   "outputs": [],
   "source": [
    "def imc(altura, peso):\n",
    "  resul = peso / altura**2\n",
    "  print(resul)\n",
    "  if resul < 18.5:\n",
    "    return 'Baixo Peso'\n",
    "  elif resul >= 18.5 and resul < 25:\n",
    "    return 'Peso saudável'\n",
    "  elif resul >= 25 and resul < 30:\n",
    "    return 'Sobrepeso'\n",
    "  elif resul >= 30:\n",
    "    return 'Obesidade'"
   ]
  },
  {
   "cell_type": "code",
   "execution_count": 51,
   "metadata": {},
   "outputs": [
    {
     "name": "stdout",
     "output_type": "stream",
     "text": [
      "23.875114784205696\n"
     ]
    },
    {
     "data": {
      "text/plain": [
       "'Peso saudável'"
      ]
     },
     "execution_count": 51,
     "metadata": {},
     "output_type": "execute_result"
    }
   ],
   "source": [
    "imc(peso=65,altura=1.65)"
   ]
  },
  {
   "cell_type": "code",
   "execution_count": 61,
   "metadata": {},
   "outputs": [],
   "source": [
    "def montante(c,i,n):\n",
    "  valorFuturo = c*(1+i)**n\n",
    "  info = {\n",
    "    \"Capital Inicial\": \"R$ \" + str(c),\n",
    "    \"Taxa\": str(i*100)+\"%\",\n",
    "    \"Período\": str(n) + \" anos\",\n",
    "    \"Montante\": \"R$ \"+str(valorFuturo)\n",
    "  }\n",
    "  return info"
   ]
  },
  {
   "cell_type": "code",
   "execution_count": 62,
   "metadata": {},
   "outputs": [
    {
     "data": {
      "text/plain": [
       "{'Capital Inicial': 'R$ 6000',\n",
       " 'Taxa': '10.0%',\n",
       " 'Período': '5 anos',\n",
       " 'Montante': 'R$ 9663.060000000003'}"
      ]
     },
     "execution_count": 62,
     "metadata": {},
     "output_type": "execute_result"
    }
   ],
   "source": [
    "montante(6000,0.1,5)"
   ]
  },
  {
   "cell_type": "code",
   "execution_count": null,
   "metadata": {},
   "outputs": [],
   "source": []
  }
 ],
 "metadata": {
  "kernelspec": {
   "display_name": "Python 3.6.9 64-bit",
   "language": "python",
   "name": "python36964bit28e931549f26415bb05b99623c5ffe59"
  },
  "language_info": {
   "codemirror_mode": {
    "name": "ipython",
    "version": 3
   },
   "file_extension": ".py",
   "mimetype": "text/x-python",
   "name": "python",
   "nbconvert_exporter": "python",
   "pygments_lexer": "ipython3",
   "version": "3.6.9"
  }
 },
 "nbformat": 4,
 "nbformat_minor": 4
}
