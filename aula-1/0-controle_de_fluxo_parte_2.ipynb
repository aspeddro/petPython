{
 "cells": [
  {
   "cell_type": "markdown",
   "metadata": {},
   "source": [
    "# Controle de Fluxo com Operadores Lógicos"
   ]
  },
  {
   "cell_type": "markdown",
   "metadata": {},
   "source": [
    "Operadores Lógicos:\n",
    "\n",
    "* `and`\n",
    "\n",
    "* `or`\n",
    "\n",
    "* `not`\n"
   ]
  },
  {
   "cell_type": "code",
   "execution_count": 2,
   "metadata": {},
   "outputs": [
    {
     "name": "stdout",
     "output_type": "stream",
     "text": [
      "Condições Aceita\n"
     ]
    }
   ],
   "source": [
    "if 2 > 1 and 4 > -2:\n",
    "    print(\"Condições Aceita\")"
   ]
  },
  {
   "cell_type": "code",
   "execution_count": 3,
   "metadata": {},
   "outputs": [
    {
     "name": "stdout",
     "output_type": "stream",
     "text": [
      "Condições Aceita\n"
     ]
    }
   ],
   "source": [
    "if 2 > 1 or -2 > 4:\n",
    "    print(\"Condições Aceita\")"
   ]
  },
  {
   "cell_type": "code",
   "execution_count": 4,
   "metadata": {},
   "outputs": [
    {
     "name": "stdout",
     "output_type": "stream",
     "text": [
      "Uma das condições não é verdadeira\n"
     ]
    }
   ],
   "source": [
    "if 10/2 >= 5 and 2 > 3:\n",
    "    print(\"As duas condições são verdadeiras\")\n",
    "else:\n",
    "    print(\"Uma das condições não é verdadeira\") "
   ]
  },
  {
   "cell_type": "code",
   "execution_count": 1,
   "metadata": {},
   "outputs": [
    {
     "name": "stdout",
     "output_type": "stream",
     "text": [
      "Primeira condição aceita\n",
      "Segunda Condição Aceita\n"
     ]
    }
   ],
   "source": [
    "a = 5\n",
    "b = 10\n",
    "\n",
    "if (a > 1 and b > 5) and (a < 10 and not(b > 20)):\n",
    "    print(\"Primeira condição aceita\")\n",
    "    if (b > a):\n",
    "       print(\"Segunda Condição Aceita\")\n",
    "else:\n",
    "    print(\"Não Aceito\")"
   ]
  },
  {
   "cell_type": "code",
   "execution_count": null,
   "metadata": {},
   "outputs": [],
   "source": []
  }
 ],
 "metadata": {
  "kernelspec": {
   "display_name": "Python 3.6.9 64-bit",
   "language": "python",
   "name": "python36964bit28e931549f26415bb05b99623c5ffe59"
  },
  "language_info": {
   "codemirror_mode": {
    "name": "ipython",
    "version": 3
   },
   "file_extension": ".py",
   "mimetype": "text/x-python",
   "name": "python",
   "nbconvert_exporter": "python",
   "pygments_lexer": "ipython3",
   "version": "3.6.9"
  }
 },
 "nbformat": 4,
 "nbformat_minor": 4
}
