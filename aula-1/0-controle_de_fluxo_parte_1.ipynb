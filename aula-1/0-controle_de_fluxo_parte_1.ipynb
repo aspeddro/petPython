{
 "cells": [
  {
   "cell_type": "markdown",
   "metadata": {},
   "source": [
    "# Controle de Fluxo"
   ]
  },
  {
   "cell_type": "markdown",
   "metadata": {},
   "source": [
    "# Condicionais"
   ]
  },
  {
   "cell_type": "markdown",
   "metadata": {},
   "source": [
    "Python usa algumas palavras-chave para indicar execução condicional de um código.\n",
    "\n",
    "* `if`\n",
    "\n",
    "* `elif`, abreviação de *else if*\n",
    "\n",
    "* `else`\n",
    "\n",
    "\n"
   ]
  },
  {
   "cell_type": "markdown",
   "metadata": {},
   "source": [
    "As condicionais servem para executar um bloco de código se as condições forem aceitas ou não."
   ]
  },
  {
   "cell_type": "markdown",
   "metadata": {},
   "source": [
    "# Indentação"
   ]
  },
  {
   "cell_type": "markdown",
   "metadata": {},
   "source": [
    "Python usa um recuo (espaço em branco no início de uma linha) para definir o escopo no código. A indentação pode ser feita usando a tecla `Tab`. No final de cada instrução para iniciar um escopo de código é necessário usar dois pontos `:`"
   ]
  },
  {
   "cell_type": "markdown",
   "metadata": {},
   "source": [
    "## `if`"
   ]
  },
  {
   "cell_type": "code",
   "execution_count": null,
   "metadata": {},
   "outputs": [],
   "source": [
    "idade = 12\n",
    "# a condição abaixo verfifica de a variável idade é maior ou igual a 18. Se a condição for verdadeira o bloco dentro da condição if é executada, se não for o bloco de código dentro da condição else é executado.\n",
    "if idade >= 18:\n",
    "    print(\"Acesso permitido\")\n",
    "else:\n",
    "    print(\"Condição não aceita\")"
   ]
  },
  {
   "cell_type": "markdown",
   "metadata": {},
   "source": [
    "## `elif`"
   ]
  },
  {
   "cell_type": "markdown",
   "metadata": {},
   "source": [
    "A palavra-chave `elif` é uma forma de python de dizer \"se as condições anteriores não fossem verdadeiras, tente esta condição\"."
   ]
  },
  {
   "cell_type": "code",
   "execution_count": 26,
   "metadata": {},
   "outputs": [
    {
     "name": "stdout",
     "output_type": "stream",
     "text": [
      "a é igual a 5\n"
     ]
    }
   ],
   "source": [
    "a = 5\n",
    "\n",
    "if a < 3:\n",
    "    print(\"a é menor que 3\")\n",
    "elif a == 5:\n",
    "    print(\"a é igual a 5\")"
   ]
  },
  {
   "cell_type": "code",
   "execution_count": 29,
   "metadata": {},
   "outputs": [
    {
     "name": "stdout",
     "output_type": "stream",
     "text": [
      "Price X > Price Y\n"
     ]
    }
   ],
   "source": [
    "price_x = 50\n",
    "price_y = 10\n",
    "\n",
    "if price_x < price_y:\n",
    "    print(\"Price X < Price Y\")\n",
    "elif price_x == price_y:\n",
    "    print(\"Price X = Price Y\")\n",
    "elif price_x > price_y:\n",
    "    print(\"Price X > Price Y\")"
   ]
  },
  {
   "cell_type": "markdown",
   "metadata": {},
   "source": [
    "## `else`"
   ]
  },
  {
   "cell_type": "markdown",
   "metadata": {},
   "source": [
    "A palavra-chave `else` é usada para captar qualquer coisa que não seja capturada pelas condições anteriores."
   ]
  },
  {
   "cell_type": "code",
   "execution_count": 31,
   "metadata": {},
   "outputs": [
    {
     "name": "stdout",
     "output_type": "stream",
     "text": [
      "Alto\n"
     ]
    }
   ],
   "source": [
    "altura = 1.80\n",
    "\n",
    "if altura < 1.4:\n",
    "    print(\"Muito Baixo\")\n",
    "elif altura == 1.6:\n",
    "    print(\"Não muito alto\")\n",
    "elif altura > 1.6:\n",
    "    print(\"Alto\")"
   ]
  },
  {
   "cell_type": "markdown",
   "metadata": {},
   "source": [
    "## Condições inline"
   ]
  },
  {
   "cell_type": "markdown",
   "metadata": {},
   "source": [
    "Se você tiver apenas uma instrução para executar, pode colocar a instrução na mesma linha. Essa técnica é conhecida como Operadores Ternários."
   ]
  },
  {
   "cell_type": "code",
   "execution_count": 32,
   "metadata": {},
   "outputs": [
    {
     "name": "stdout",
     "output_type": "stream",
     "text": [
      "2 é maior que 3\n"
     ]
    }
   ],
   "source": [
    "if 20 > 3: print(\"2 é maior que 3\")"
   ]
  },
  {
   "cell_type": "code",
   "execution_count": 2,
   "metadata": {},
   "outputs": [
    {
     "name": "stdout",
     "output_type": "stream",
     "text": [
      "Verdadeiro\n"
     ]
    }
   ],
   "source": [
    "print(\"Verdadeiro\") if 3 > 1 else print(\"Falso\")"
   ]
  },
  {
   "cell_type": "code",
   "execution_count": 34,
   "metadata": {},
   "outputs": [
    {
     "name": "stdout",
     "output_type": "stream",
     "text": [
      "a2 é diferente de b2\n"
     ]
    }
   ],
   "source": [
    "a2 = 20\n",
    "b2 = 30\n",
    "print(\"a2 é igual a b2\") if a2 == b2 else print(\"a2 é diferente de b2\")"
   ]
  }
 ],
 "metadata": {
  "kernelspec": {
   "display_name": "Python 3.6.9 64-bit",
   "language": "python",
   "name": "python36964bitf99ae462759e493db74a2cf05a02a4ce"
  },
  "language_info": {
   "codemirror_mode": {
    "name": "ipython",
    "version": 3
   },
   "file_extension": ".py",
   "mimetype": "text/x-python",
   "name": "python",
   "nbconvert_exporter": "python",
   "pygments_lexer": "ipython3",
   "version": "3.6.9"
  }
 },
 "nbformat": 4,
 "nbformat_minor": 4
}
