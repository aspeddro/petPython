{
 "cells": [
  {
   "cell_type": "markdown",
   "metadata": {},
   "source": [
    "# Estrutura de Dados"
   ]
  },
  {
   "cell_type": "markdown",
   "metadata": {},
   "source": [
    "Variáveis além de guardar valores, elas guardam diferentes tipos de dados, podem guarda textos, que são strings, números, entre outros tipos. Os tipos de dados em Python são os seguintes:"
   ]
  },
  {
   "cell_type": "markdown",
   "metadata": {},
   "source": [
    "* Números\n",
    "    \n",
    "    a) Inteiro\n",
    "    \n",
    "    b) Flutuante\n",
    "\n",
    "* Strings\n",
    "\n",
    "* Sequências\n",
    "\n",
    "    a) Listas\n",
    "\n",
    "    b) Tuplas\n",
    "\n",
    "* Mapeamento\n",
    "\n",
    "    a) Dicionários\n",
    "\n",
    "* Booleando\n",
    "\n",
    "Esses são os tipos de dados mais comum."
   ]
  },
  {
   "cell_type": "markdown",
   "metadata": {},
   "source": [
    "## Números"
   ]
  },
  {
   "cell_type": "markdown",
   "metadata": {},
   "source": [
    "### Inteiro"
   ]
  },
  {
   "cell_type": "code",
   "execution_count": 3,
   "metadata": {},
   "outputs": [
    {
     "data": {
      "text/plain": [
       "int"
      ]
     },
     "execution_count": 3,
     "metadata": {},
     "output_type": "execute_result"
    }
   ],
   "source": [
    "idade = 20 # número inteiro\n",
    "type(idade) # a função type() retorna o tipo do dado"
   ]
  },
  {
   "cell_type": "code",
   "execution_count": null,
   "metadata": {},
   "outputs": [],
   "source": [
    "bigg = 234398434\n",
    "type(bigg)"
   ]
  },
  {
   "cell_type": "markdown",
   "metadata": {},
   "source": [
    "### Flutuante"
   ]
  },
  {
   "cell_type": "code",
   "execution_count": 4,
   "metadata": {},
   "outputs": [
    {
     "data": {
      "text/plain": [
       "float"
      ]
     },
     "execution_count": 4,
     "metadata": {},
     "output_type": "execute_result"
    }
   ],
   "source": [
    "altura = 1.65 # número flutuante\n",
    "type(altura)"
   ]
  },
  {
   "cell_type": "code",
   "execution_count": 5,
   "metadata": {},
   "outputs": [
    {
     "data": {
      "text/plain": [
       "float"
      ]
     },
     "execution_count": 5,
     "metadata": {},
     "output_type": "execute_result"
    }
   ],
   "source": [
    "size = 20.00\n",
    "type(size)"
   ]
  },
  {
   "cell_type": "code",
   "execution_count": 1,
   "metadata": {},
   "outputs": [
    {
     "output_type": "stream",
     "name": "stdout",
     "text": "100000.0\n"
    },
    {
     "output_type": "execute_result",
     "data": {
      "text/plain": "float"
     },
     "metadata": {},
     "execution_count": 1
    }
   ],
   "source": [
    "big = 1e5 # 1*10^5\n",
    "print(big)\n",
    "type(big)"
   ]
  },
  {
   "cell_type": "code",
   "execution_count": 7,
   "metadata": {},
   "outputs": [
    {
     "name": "stdout",
     "output_type": "stream",
     "text": [
      "0.001\n"
     ]
    }
   ],
   "source": [
    "small = 1e-3\n",
    "print(small)"
   ]
  },
  {
   "cell_type": "code",
   "execution_count": null,
   "metadata": {},
   "outputs": [],
   "source": [
    "## Strings"
   ]
  },
  {
   "cell_type": "markdown",
   "metadata": {},
   "source": [
    "String são caracteres/texto. Em python são cercados por aspas simples `'` ou aspas duplas `\"`"
   ]
  },
  {
   "cell_type": "code",
   "execution_count": 3,
   "metadata": {},
   "outputs": [
    {
     "output_type": "execute_result",
     "data": {
      "text/plain": "str"
     },
     "metadata": {},
     "execution_count": 3
    }
   ],
   "source": [
    "my_name = \"Marcelo\"\n",
    "type(my_name)"
   ]
  },
  {
   "cell_type": "code",
   "execution_count": 4,
   "metadata": {},
   "outputs": [
    {
     "output_type": "execute_result",
     "data": {
      "text/plain": "str"
     },
     "metadata": {},
     "execution_count": 4
    }
   ],
   "source": [
    "pais = 'Brazi' # utilizando aspas simples\n",
    "type(pais)"
   ]
  },
  {
   "cell_type": "markdown",
   "metadata": {},
   "source": [
    "### Strings Multilinha"
   ]
  },
  {
   "cell_type": "markdown",
   "metadata": {},
   "source": [
    "Você pode criar um string multilinha usando três aspas. Podendo ser simples ou dupla"
   ]
  },
  {
   "cell_type": "code",
   "execution_count": 7,
   "metadata": {},
   "outputs": [
    {
     "output_type": "stream",
     "name": "stdout",
     "text": "<class 'str'>\nPython é uma linguagem de programação de alto nível,\ninterpretada, de script, imperativa, orientada a objetos, funcional, \nde tipagem dinâmica e forte. Foi lançada por Guido van Rossum em 1991\n"
    }
   ],
   "source": [
    "texto_longo = \"\"\"Python é uma linguagem de programação de alto nível,\n",
    "interpretada, de script, imperativa, orientada a objetos, funcional, \n",
    "de tipagem dinâmica e forte. Foi lançada por Guido van Rossum em 1991\"\"\"\n",
    "print(type(texto_longo))\n",
    "print(texto_longo)"
   ]
  },
  {
   "cell_type": "markdown",
   "metadata": {},
   "source": [
    "## Sequências"
   ]
  },
  {
   "cell_type": "markdown",
   "metadata": {},
   "source": [
    "### Listas"
   ]
  },
  {
   "cell_type": "markdown",
   "metadata": {},
   "source": [
    "Lista é uma coleção que é ordenada e mutável. Permite membros duplicados. Em Python as listas são escritas com colchetes `[]`. A vírgula separa cada item."
   ]
  },
  {
   "cell_type": "code",
   "execution_count": 15,
   "metadata": {},
   "outputs": [
    {
     "output_type": "execute_result",
     "data": {
      "text/plain": "list"
     },
     "metadata": {},
     "execution_count": 15
    }
   ],
   "source": [
    "minha_lista = [\"Brasil\", \"China\", \"Russia\", \"Brasil\"]\n",
    "type(minha_lista)"
   ]
  },
  {
   "cell_type": "code",
   "execution_count": 16,
   "metadata": {},
   "outputs": [
    {
     "output_type": "stream",
     "name": "stdout",
     "text": "['Brasil', 'China', 'Russia', 'Brasil']\n"
    }
   ],
   "source": [
    "print(minha_lista) # imprimindo a lista"
   ]
  },
  {
   "cell_type": "code",
   "execution_count": 13,
   "metadata": {},
   "outputs": [
    {
     "output_type": "stream",
     "name": "stdout",
     "text": "[1, 2, 3, 4, 5, 6, 7, 8, 9, 10]\n"
    }
   ],
   "source": [
    "numbers_positive = [1,2,3,4,5,6,7,8,9,10]\n",
    "print(numbers_positive)"
   ]
  },
  {
   "cell_type": "code",
   "execution_count": 19,
   "metadata": {},
   "outputs": [
    {
     "output_type": "stream",
     "name": "stdout",
     "text": "['Brasil', 94343494, 23.23]\n"
    }
   ],
   "source": [
    "# Listas permite ter dados de diferentes tipos\n",
    "lista_todos = [\"Brasil\", 94343494, 23.23]\n",
    "print(lista_todos)"
   ]
  },
  {
   "cell_type": "code",
   "execution_count": 21,
   "metadata": {},
   "outputs": [
    {
     "output_type": "stream",
     "name": "stdout",
     "text": "[]\n"
    }
   ],
   "source": [
    "lista_vazia = [] # criando uma lista vazia\n",
    "print(lista_vazia)"
   ]
  },
  {
   "cell_type": "markdown",
   "metadata": {},
   "source": [
    "### Tuplas"
   ]
  },
  {
   "cell_type": "markdown",
   "metadata": {},
   "source": [
    "Tupla é uma coleção ordenada e **imutável**. As tuplas são escritas com parẽnteses."
   ]
  },
  {
   "cell_type": "code",
   "execution_count": 23,
   "metadata": {},
   "outputs": [
    {
     "output_type": "stream",
     "name": "stdout",
     "text": "<class 'tuple'>\n('Brazil', 'EUA', 'Japão')\n"
    }
   ],
   "source": [
    "primeira_tupla = (\"Brazil\", \"EUA\", \"Japão\")\n",
    "print(type(primeira_tupla)) # imprimindo o tipo\n",
    "print(primeira_tupla) # imprimindo a tupla"
   ]
  },
  {
   "cell_type": "code",
   "execution_count": 25,
   "metadata": {},
   "outputs": [
    {
     "output_type": "stream",
     "name": "stdout",
     "text": "('Europa', 'Ásia', 'América', 'África', 'Oceania')\n"
    }
   ],
   "source": [
    "continentes = (\"Europa\", \"Ásia\", \"América\", \"África\", \"Oceania\")\n",
    "print(continentes)"
   ]
  },
  {
   "cell_type": "code",
   "execution_count": 27,
   "metadata": {},
   "outputs": [
    {
     "output_type": "stream",
     "name": "stdout",
     "text": "('EUA', 99000.0, 1)\n"
    }
   ],
   "source": [
    "tudo = (\"EUA\", 99e3, 1)\n",
    "print(tudo)"
   ]
  },
  {
   "cell_type": "code",
   "execution_count": 29,
   "metadata": {},
   "outputs": [
    {
     "output_type": "stream",
     "name": "stdout",
     "text": "('Brasil', [1, 2, 3], 2.2)\n"
    }
   ],
   "source": [
    "a = (\"Brasil\", [1,2,3], 2.2)\n",
    "print(a)"
   ]
  },
  {
   "cell_type": "code",
   "execution_count": null,
   "metadata": {},
   "outputs": [],
   "source": []
  }
 ],
 "metadata": {
  "kernelspec": {
   "display_name": "Python 3.6.9 64-bit",
   "language": "python",
   "name": "python36964bit28e931549f26415bb05b99623c5ffe59"
  },
  "language_info": {
   "codemirror_mode": {
    "name": "ipython",
    "version": 3
   },
   "file_extension": ".py",
   "mimetype": "text/x-python",
   "name": "python",
   "nbconvert_exporter": "python",
   "pygments_lexer": "ipython3",
   "version": "3.6.9-final"
  }
 },
 "nbformat": 4,
 "nbformat_minor": 4
}