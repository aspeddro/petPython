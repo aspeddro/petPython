{
 "cells": [
  {
   "cell_type": "markdown",
   "metadata": {},
   "source": [
    "# Variáveis"
   ]
  },
  {
   "cell_type": "markdown",
   "metadata": {},
   "source": [
    "Variáveis armazenam dados, facilita a manutenção e a legibilidade do código. Em Python uma variável é criada quando se utilizar o símbolo `=`."
   ]
  },
  {
   "cell_type": "code",
   "execution_count": 15,
   "metadata": {},
   "outputs": [],
   "source": [
    "# criando uma varíavel chamada pib e guardando o valor 952854932 nela\n",
    "pib = 952854932"
   ]
  },
  {
   "cell_type": "markdown",
   "metadata": {},
   "source": [
    "Agora que a variável `pib` foi criada, você pode imprimir usando a função `print()`"
   ]
  },
  {
   "cell_type": "code",
   "execution_count": 6,
   "metadata": {},
   "outputs": [
    {
     "name": "stdout",
     "output_type": "stream",
     "text": [
      "952854932\n"
     ]
    }
   ],
   "source": [
    "print(pib)"
   ]
  },
  {
   "cell_type": "markdown",
   "metadata": {},
   "source": [
    "## Regras para nomear variáveis"
   ]
  },
  {
   "cell_type": "markdown",
   "metadata": {},
   "source": [
    "O nome da variável pode ser uma letra, ou palavras. Utilize palavras curtas para nomear suas variáveis. As regras são as seguintes:\n",
    "\n",
    "* O nome da variável deve começar com uma letra ou o caractere sublinhado `_`\n",
    "\n",
    "* O nome da variável não pode começar com um número\n",
    "\n",
    "* O nome da variável pode conter apenas caracteres alfanuméricos e sublinhados (A-z, 0-9 e _).\n",
    "\n",
    "**Observação**:  O nomes de variáveis ​​diferenciam maiúsculas de minúsculas (*case-sensitive*). A variável `pib` é diferente de `Pib` que é diferente de `PIB`."
   ]
  },
  {
   "cell_type": "markdown",
   "metadata": {},
   "source": [
    "```python\n",
    "# Tudo OK\n",
    "age = 10\n",
    "my_age = 10\n",
    "_my_age = 10\n",
    "myAge = 10\n",
    "AGE = 10\n",
    "myage2 = 10\n",
    "\n",
    "# Nomeação errada\n",
    "2myage = 10\n",
    "my-age = 10\n",
    "my age = 10\n",
    "```"
   ]
  },
  {
   "cell_type": "markdown",
   "metadata": {},
   "source": [
    "## Múltiplas Variáveis"
   ]
  },
  {
   "cell_type": "markdown",
   "metadata": {},
   "source": [
    "Python permite atribuir valores a várias variáveis em uma linha."
   ]
  },
  {
   "cell_type": "code",
   "execution_count": 9,
   "metadata": {},
   "outputs": [],
   "source": [
    "idh, gini = 0.9, 0.3"
   ]
  },
  {
   "cell_type": "code",
   "execution_count": 10,
   "metadata": {},
   "outputs": [
    {
     "name": "stdout",
     "output_type": "stream",
     "text": [
      "0.9\n"
     ]
    }
   ],
   "source": [
    "print(idh)"
   ]
  },
  {
   "cell_type": "code",
   "execution_count": 11,
   "metadata": {},
   "outputs": [
    {
     "name": "stdout",
     "output_type": "stream",
     "text": [
      "0.3\n"
     ]
    }
   ],
   "source": [
    "print(gini)"
   ]
  },
  {
   "cell_type": "markdown",
   "metadata": {},
   "source": [
    "É possível atribuir um mesmo valor a diversas varíaveis em uma linha"
   ]
  },
  {
   "cell_type": "code",
   "execution_count": 13,
   "metadata": {},
   "outputs": [],
   "source": [
    "a = b = c = 3"
   ]
  },
  {
   "cell_type": "code",
   "execution_count": 14,
   "metadata": {},
   "outputs": [
    {
     "name": "stdout",
     "output_type": "stream",
     "text": [
      "3\n",
      "3\n",
      "3\n"
     ]
    }
   ],
   "source": [
    "print(a)\n",
    "print(b)\n",
    "print(c)"
   ]
  },
  {
   "cell_type": "markdown",
   "metadata": {},
   "source": [
    "## Reatribuição e Atualização de Variáveis"
   ]
  },
  {
   "cell_type": "markdown",
   "metadata": {},
   "source": [
    "### Reatribuição"
   ]
  },
  {
   "cell_type": "markdown",
   "metadata": {},
   "source": [
    "Uma nova atribuição faz uma variável existente referir-se a um novo valor"
   ]
  },
  {
   "cell_type": "code",
   "execution_count": 2,
   "metadata": {},
   "outputs": [
    {
     "output_type": "stream",
     "name": "stdout",
     "text": "15\n"
    }
   ],
   "source": [
    "beta = 10\n",
    "beta = 15\n",
    "print(beta) #beta deixa de ser 10 e passa a ser 15"
   ]
  },
  {
   "cell_type": "code",
   "execution_count": 4,
   "metadata": {},
   "outputs": [
    {
     "output_type": "stream",
     "name": "stdout",
     "text": "2\n1\n"
    }
   ],
   "source": [
    "alpha = 1\n",
    "beta = alpha # beta é igual a alpha\n",
    "alpha = 2 # atualizando o valor de alpha\n",
    "\n",
    "print(alpha) # vai imprimir o novo valor de alpha\n",
    "print(beta) # beta continua com o valor do beta inicial, 1"
   ]
  },
  {
   "cell_type": "markdown",
   "metadata": {},
   "source": [
    "No código acima a reatriibuição de `alpha` não alterou o valor de `beta`."
   ]
  },
  {
   "cell_type": "markdown",
   "metadata": {},
   "source": [
    "### Atualização de Variáveis"
   ]
  },
  {
   "cell_type": "markdown",
   "metadata": {},
   "source": [
    "Atualização é um tipo de reatribuição, onde o valor da variável depende do valor anterior."
   ]
  },
  {
   "cell_type": "code",
   "execution_count": 6,
   "metadata": {},
   "outputs": [
    {
     "output_type": "stream",
     "name": "stdout",
     "text": "40\n"
    }
   ],
   "source": [
    "temperatura = 30\n",
    "temperatura = temperatura + 10 #isso é equivalente a => temperatura += 10\n",
    "print(temperatura)"
   ]
  },
  {
   "cell_type": "markdown",
   "metadata": {},
   "source": [
    "Outros operadores de atualização:"
   ]
  },
  {
   "cell_type": "code",
   "execution_count": 8,
   "metadata": {},
   "outputs": [
    {
     "output_type": "stream",
     "name": "stdout",
     "text": "40\n0\n15\n3.0\n"
    }
   ],
   "source": [
    "time1 = 30\n",
    "time1 += 10 # é igual a => time1 = time1 + 10\n",
    "print(time1)\n",
    "\n",
    "time2 = 5\n",
    "time2 -= 5 # é igual a => time2 = time2 - 5\n",
    "print(time2)\n",
    "\n",
    "time3 = 3\n",
    "time3 *= 5 # é igual a => time3 = time3 * 5\n",
    "print(time3)\n",
    "\n",
    "time4 = 9\n",
    "time4 /= 3 # é igual a => time4 = time4 / 3\n",
    "print(time4)"
   ]
  }
 ],
 "metadata": {
  "kernelspec": {
   "display_name": "Python 3",
   "language": "python",
   "name": "python3"
  },
  "language_info": {
   "codemirror_mode": {
    "name": "ipython",
    "version": 3
   },
   "file_extension": ".py",
   "mimetype": "text/x-python",
   "name": "python",
   "nbconvert_exporter": "python",
   "pygments_lexer": "ipython3",
   "version": "3.6.9-final"
  }
 },
 "nbformat": 4,
 "nbformat_minor": 4
}